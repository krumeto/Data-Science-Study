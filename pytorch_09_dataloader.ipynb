{
  "nbformat": 4,
  "nbformat_minor": 0,
  "metadata": {
    "colab": {
      "name": "pytorch_09_dataloader.ipynb",
      "provenance": [],
      "authorship_tag": "ABX9TyNJj0iJHo94VCWU4Jki+OAa",
      "include_colab_link": true
    },
    "kernelspec": {
      "name": "python3",
      "display_name": "Python 3"
    },
    "language_info": {
      "name": "python"
    },
    "accelerator": "GPU"
  },
  "cells": [
    {
      "cell_type": "markdown",
      "metadata": {
        "id": "view-in-github",
        "colab_type": "text"
      },
      "source": [
        "<a href=\"https://colab.research.google.com/github/krumeto/Data-Science-Study/blob/master/pytorch_09_dataloader.ipynb\" target=\"_parent\"><img src=\"https://colab.research.google.com/assets/colab-badge.svg\" alt=\"Open In Colab\"/></a>"
      ]
    },
    {
      "cell_type": "code",
      "metadata": {
        "id": "G5E6TaXzAZts"
      },
      "source": [
        "import torch\n",
        "import torchvision\n",
        "from torch.utils.data import Dataset, DataLoader\n",
        "\n",
        "import numpy as np\n",
        "import math"
      ],
      "execution_count": 2,
      "outputs": []
    },
    {
      "cell_type": "code",
      "metadata": {
        "colab": {
          "base_uri": "https://localhost:8080/"
        },
        "id": "bdMD2QbBETMC",
        "outputId": "f594ef76-d163-4221-ff6b-ffebd273f091"
      },
      "source": [
        "!wget https://raw.githubusercontent.com/python-engineer/pytorchTutorial/master/data/wine/wine.csv"
      ],
      "execution_count": 3,
      "outputs": [
        {
          "output_type": "stream",
          "text": [
            "--2021-04-18 17:45:29--  https://raw.githubusercontent.com/python-engineer/pytorchTutorial/master/data/wine/wine.csv\n",
            "Resolving raw.githubusercontent.com (raw.githubusercontent.com)... 185.199.108.133, 185.199.109.133, 185.199.110.133, ...\n",
            "Connecting to raw.githubusercontent.com (raw.githubusercontent.com)|185.199.108.133|:443... connected.\n",
            "HTTP request sent, awaiting response... 200 OK\n",
            "Length: 10889 (11K) [text/plain]\n",
            "Saving to: ‘wine.csv’\n",
            "\n",
            "wine.csv            100%[===================>]  10.63K  --.-KB/s    in 0s      \n",
            "\n",
            "2021-04-18 17:45:30 (93.6 MB/s) - ‘wine.csv’ saved [10889/10889]\n",
            "\n"
          ],
          "name": "stdout"
        }
      ]
    },
    {
      "cell_type": "code",
      "metadata": {
        "id": "hdJslAp1DzhS"
      },
      "source": [
        "class WineDataset(Dataset):\n",
        "\n",
        "  def __init__(self):\n",
        "    # data loading\n",
        "    xy = np.loadtxt(\"./wine.csv\", delimiter=\",\", dtype=np.float32, skiprows=1)\n",
        "    self.x = torch.from_numpy(xy[:, 1:])\n",
        "    self.y = torch.from_numpy(xy[:, [0]]) #n_samples, 1\n",
        "    self.n_samples = xy.shape[0]\n",
        "\n",
        "\n",
        "  def __getitem__(self, index):\n",
        "    return self.x[index], self.y[index]\n",
        "\n",
        "  def __len__(self):\n",
        "    return self.n_samples\n",
        "\n",
        "\n",
        "dataset = WineDataset()"
      ],
      "execution_count": 4,
      "outputs": []
    },
    {
      "cell_type": "code",
      "metadata": {
        "colab": {
          "base_uri": "https://localhost:8080/"
        },
        "id": "GT_FiCPRFnyv",
        "outputId": "83f7c3e7-2b14-409c-8d3d-cddc9570234c"
      },
      "source": [
        "first_data = dataset[0]\n",
        "features, labels = first_data\n",
        "print(features, labels)"
      ],
      "execution_count": 6,
      "outputs": [
        {
          "output_type": "stream",
          "text": [
            "tensor([1.4230e+01, 1.7100e+00, 2.4300e+00, 1.5600e+01, 1.2700e+02, 2.8000e+00,\n",
            "        3.0600e+00, 2.8000e-01, 2.2900e+00, 5.6400e+00, 1.0400e+00, 3.9200e+00,\n",
            "        1.0650e+03]) tensor([1.])\n"
          ],
          "name": "stdout"
        }
      ]
    },
    {
      "cell_type": "code",
      "metadata": {
        "colab": {
          "base_uri": "https://localhost:8080/"
        },
        "id": "PWnIqJv2F1ql",
        "outputId": "ff36a8c5-47e7-4f38-ce00-f24421e6a109"
      },
      "source": [
        "dataloader = DataLoader(dataset = dataset, batch_size=4, shuffle=True, num_workers=2)\n",
        "\n",
        "dataiter = iter(dataloader)\n",
        "data = dataiter.next()\n",
        "\n",
        "features, labels = data\n",
        "print(features, labels)"
      ],
      "execution_count": 7,
      "outputs": [
        {
          "output_type": "stream",
          "text": [
            "tensor([[1.4230e+01, 1.7100e+00, 2.4300e+00, 1.5600e+01, 1.2700e+02, 2.8000e+00,\n",
            "         3.0600e+00, 2.8000e-01, 2.2900e+00, 5.6400e+00, 1.0400e+00, 3.9200e+00,\n",
            "         1.0650e+03],\n",
            "        [1.3620e+01, 4.9500e+00, 2.3500e+00, 2.0000e+01, 9.2000e+01, 2.0000e+00,\n",
            "         8.0000e-01, 4.7000e-01, 1.0200e+00, 4.4000e+00, 9.1000e-01, 2.0500e+00,\n",
            "         5.5000e+02],\n",
            "        [1.3110e+01, 1.9000e+00, 2.7500e+00, 2.5500e+01, 1.1600e+02, 2.2000e+00,\n",
            "         1.2800e+00, 2.6000e-01, 1.5600e+00, 7.1000e+00, 6.1000e-01, 1.3300e+00,\n",
            "         4.2500e+02],\n",
            "        [1.2850e+01, 3.2700e+00, 2.5800e+00, 2.2000e+01, 1.0600e+02, 1.6500e+00,\n",
            "         6.0000e-01, 6.0000e-01, 9.6000e-01, 5.5800e+00, 8.7000e-01, 2.1100e+00,\n",
            "         5.7000e+02]]) tensor([[1.],\n",
            "        [3.],\n",
            "        [3.],\n",
            "        [3.]])\n"
          ],
          "name": "stdout"
        }
      ]
    },
    {
      "cell_type": "code",
      "metadata": {
        "colab": {
          "base_uri": "https://localhost:8080/"
        },
        "id": "JAktSIqVGVXn",
        "outputId": "fee1f441-a0c1-4446-fba6-0cf95c70e4b5"
      },
      "source": [
        "num_epochs = 2\n",
        "total_samples = len(dataset)\n",
        "n_iterations = math.ceil(total_samples/4)\n",
        "print(total_samples, n_iterations)\n",
        "\n",
        "for epoch in range(num_epochs):\n",
        "  for i, (inputs, labels) in enumerate(dataloader):\n",
        "\n",
        "    if (i+1) % 5 ==0:\n",
        "      print(f\"epoch {epoch+1}, step {i+1}, inputs {inputs.shape}\")"
      ],
      "execution_count": 10,
      "outputs": [
        {
          "output_type": "stream",
          "text": [
            "178 45\n",
            "epoch 1, step 5, inputs torch.Size([4, 13])\n",
            "epoch 1, step 10, inputs torch.Size([4, 13])\n",
            "epoch 1, step 15, inputs torch.Size([4, 13])\n",
            "epoch 1, step 20, inputs torch.Size([4, 13])\n",
            "epoch 1, step 25, inputs torch.Size([4, 13])\n",
            "epoch 1, step 30, inputs torch.Size([4, 13])\n",
            "epoch 1, step 35, inputs torch.Size([4, 13])\n",
            "epoch 1, step 40, inputs torch.Size([4, 13])\n",
            "epoch 1, step 45, inputs torch.Size([2, 13])\n",
            "epoch 2, step 5, inputs torch.Size([4, 13])\n",
            "epoch 2, step 10, inputs torch.Size([4, 13])\n",
            "epoch 2, step 15, inputs torch.Size([4, 13])\n",
            "epoch 2, step 20, inputs torch.Size([4, 13])\n",
            "epoch 2, step 25, inputs torch.Size([4, 13])\n",
            "epoch 2, step 30, inputs torch.Size([4, 13])\n",
            "epoch 2, step 35, inputs torch.Size([4, 13])\n",
            "epoch 2, step 40, inputs torch.Size([4, 13])\n",
            "epoch 2, step 45, inputs torch.Size([2, 13])\n"
          ],
          "name": "stdout"
        }
      ]
    },
    {
      "cell_type": "markdown",
      "metadata": {
        "id": "mLCB_263Hg1U"
      },
      "source": [
        "## Transforms"
      ]
    },
    {
      "cell_type": "code",
      "metadata": {
        "colab": {
          "base_uri": "https://localhost:8080/"
        },
        "id": "yNjRlW15GmI8",
        "outputId": "0452ca89-bf2a-4bfe-af0a-d447795ccbaa"
      },
      "source": [
        "class WineDataset(Dataset):\n",
        "\n",
        "  def __init__(self, transform = None):\n",
        "    # data loading\n",
        "    xy = np.loadtxt(\"./wine.csv\", delimiter=\",\", dtype=np.float32, skiprows=1)\n",
        "    self.x = xy[:, 1:]\n",
        "    self.y = xy[:, [0]] #n_samples, 1\n",
        "    self.n_samples = xy.shape[0]\n",
        "\n",
        "    self.transform = transform\n",
        "\n",
        "  def __getitem__(self, index):\n",
        "    sample = self.x[index], self.y[index]\n",
        "\n",
        "    if self.transform:\n",
        "      sample = self.transform(sample)\n",
        "\n",
        "    return sample\n",
        "\n",
        "  def __len__(self):\n",
        "    return self.n_samples\n",
        "\n",
        "class ToTensor:\n",
        "\n",
        "  def __call__(self, sample):\n",
        "    inputs, targets = sample\n",
        "    return torch.from_numpy(inputs), torch.from_numpy(targets)\n",
        "\n",
        "class MulTransform:\n",
        "\n",
        "  def __init__(self, factor):\n",
        "    self.factor = factor\n",
        "\n",
        "  def __call__(self, sample):\n",
        "    inputs, targets = sample\n",
        "    inputs *= self.factor\n",
        "    return inputs, targets\n",
        "\n",
        "dataset = WineDataset(transform=ToTensor())\n",
        "\n",
        "print(dataset[0])\n",
        "print(type(dataset[0][0]))\n",
        "\n",
        "\n",
        "composed = torchvision.transforms.Compose([ToTensor(), MulTransform(42)])\n",
        "dataset = WineDataset(transform=composed)\n",
        "\n",
        "print(dataset[0])\n",
        "print(type(dataset[0][0]))"
      ],
      "execution_count": 22,
      "outputs": [
        {
          "output_type": "stream",
          "text": [
            "(tensor([1.4230e+01, 1.7100e+00, 2.4300e+00, 1.5600e+01, 1.2700e+02, 2.8000e+00,\n",
            "        3.0600e+00, 2.8000e-01, 2.2900e+00, 5.6400e+00, 1.0400e+00, 3.9200e+00,\n",
            "        1.0650e+03]), tensor([1.]))\n",
            "<class 'torch.Tensor'>\n",
            "(tensor([5.9766e+02, 7.1820e+01, 1.0206e+02, 6.5520e+02, 5.3340e+03, 1.1760e+02,\n",
            "        1.2852e+02, 1.1760e+01, 9.6180e+01, 2.3688e+02, 4.3680e+01, 1.6464e+02,\n",
            "        4.4730e+04]), tensor([1.]))\n",
            "<class 'torch.Tensor'>\n"
          ],
          "name": "stdout"
        }
      ]
    }
  ]
}