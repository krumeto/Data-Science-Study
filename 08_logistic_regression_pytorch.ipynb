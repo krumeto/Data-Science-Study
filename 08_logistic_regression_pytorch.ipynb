{
  "nbformat": 4,
  "nbformat_minor": 0,
  "metadata": {
    "colab": {
      "name": "08_logistic_regression_pytorch.ipynb",
      "provenance": [],
      "authorship_tag": "ABX9TyP/62Be4vXzCiRX+3foRPEl",
      "include_colab_link": true
    },
    "kernelspec": {
      "name": "python3",
      "display_name": "Python 3"
    },
    "language_info": {
      "name": "python"
    },
    "accelerator": "GPU"
  },
  "cells": [
    {
      "cell_type": "markdown",
      "metadata": {
        "id": "view-in-github",
        "colab_type": "text"
      },
      "source": [
        "<a href=\"https://colab.research.google.com/github/krumeto/Data-Science-Study/blob/master/08_logistic_regression_pytorch.ipynb\" target=\"_parent\"><img src=\"https://colab.research.google.com/assets/colab-badge.svg\" alt=\"Open In Colab\"/></a>"
      ]
    },
    {
      "cell_type": "code",
      "metadata": {
        "id": "KkxLan5D1OyG"
      },
      "source": [
        "import torch\n",
        "import torch.nn as nn\n",
        "\n",
        "import numpy as np\n",
        "from sklearn import datasets\n",
        "from sklearn.preprocessing import StandardScaler\n",
        "from sklearn.model_selection import train_test_split\n",
        "\n",
        "import matplotlib.pyplot as plt"
      ],
      "execution_count": 1,
      "outputs": []
    },
    {
      "cell_type": "code",
      "metadata": {
        "colab": {
          "base_uri": "https://localhost:8080/"
        },
        "id": "XcGyQ7zl1is7",
        "outputId": "c63804ab-aa5d-47d0-e128-7374b083e15f"
      },
      "source": [
        "bc = datasets.load_breast_cancer()\n",
        "X, y = bc.data, bc.target\n",
        "\n",
        "n_samples, n_features = X.shape\n",
        "print(n_samples, n_features)\n",
        "\n",
        "X_train, X_test, y_train, y_test = train_test_split(X, y, test_size=0.2, random_state=1234)\n",
        "\n",
        "#scale\n",
        "#Zero mean and unit variance - good for log regression\n",
        "sc = StandardScaler()\n",
        "X_train = sc.fit_transform(X_train)\n",
        "X_test = sc.transform(X_test)\n",
        "\n",
        "#scale\n",
        "#Converting to tensors\n",
        "\n",
        "X_train = torch.from_numpy(X_train.astype(np.float32))\n",
        "X_test = torch.from_numpy(X_test.astype(np.float32))\n",
        "\n",
        "y_train = torch.from_numpy(y_train.astype(np.float32))\n",
        "y_test = torch.from_numpy(y_test.astype(np.float32))\n",
        "y_train = y_train.view(y_train.shape[0], 1)\n",
        "y_test = y_test.view(y_test.shape[0], 1)\n",
        "\n"
      ],
      "execution_count": 2,
      "outputs": [
        {
          "output_type": "stream",
          "text": [
            "569 30\n"
          ],
          "name": "stdout"
        }
      ]
    },
    {
      "cell_type": "code",
      "metadata": {
        "id": "khXUIDw_3YUb"
      },
      "source": [
        "class LogisticRegression(nn.Module):\n",
        "\n",
        "  def __init__(self, n_input_features):\n",
        "    super(LogisticRegression, self).__init__()\n",
        "    self.linear = nn.Linear(n_input_features, 1)\n",
        "\n",
        "  def forward(self, x):\n",
        "    y_predicted = torch.sigmoid(self.linear(x))\n",
        "    return y_predicted\n",
        "\n",
        "model = LogisticRegression(n_features)"
      ],
      "execution_count": 3,
      "outputs": []
    },
    {
      "cell_type": "code",
      "metadata": {
        "id": "Q4Xe-R374Bqv"
      },
      "source": [
        "learning_rate = 0.01\n",
        "criterion = nn.BCELoss()\n",
        "optimizer = torch.optim.SGD(model.parameters(), lr = learning_rate)"
      ],
      "execution_count": 4,
      "outputs": []
    },
    {
      "cell_type": "code",
      "metadata": {
        "colab": {
          "base_uri": "https://localhost:8080/"
        },
        "id": "2f2RxGFV4TDv",
        "outputId": "44adfee5-b5c6-4f8a-c579-75e79d70dd64"
      },
      "source": [
        "num_epochs = 150\n",
        "\n",
        "for epoch in range(num_epochs):\n",
        "\n",
        "  #forward & loss\n",
        "  y_predicted = model(X_train)\n",
        "  loss = criterion(y_predicted, y_train)\n",
        "\n",
        "  #backward\n",
        "  loss.backward()\n",
        "\n",
        "  #updates\n",
        "  optimizer.step()\n",
        "\n",
        "  #zero gradients\n",
        "  optimizer.zero_grad()\n",
        "\n",
        "  if (epoch+1)%10 == 0:\n",
        "    print(f\"epoch: {epoch + 1}, loss: {loss.item():.4f}\")\n",
        "\n",
        "    # Make sure this is outside the loop\n",
        "    with torch.no_grad():\n",
        "      y_predicted = model(X_test)\n",
        "      #Without no_grad, the below will track the gradients\n",
        "      y_predicted_cls = y_predicted.round()\n",
        "\n",
        "      acc = y_predicted_cls.eq(y_test).sum()/float(y_test.shape[0])\n",
        "      print(f\"Accuracy = {acc:.4f}\")\n",
        "\n",
        "\n",
        "# Make sure this is outside the loop\n",
        "with torch.no_grad():\n",
        "  y_predicted = model(X_test)\n",
        "  #Without no_grad, the below will track the gradients\n",
        "  y_predicted_cls = y_predicted.round()\n",
        "\n",
        "  acc = y_predicted_cls.eq(y_test).sum()/float(y_test.shape[0])\n",
        "  print(f\"Final Accuracy = {acc:.4f}\")\n",
        "\n"
      ],
      "execution_count": 5,
      "outputs": [
        {
          "output_type": "stream",
          "text": [
            "epoch: 10, loss: 0.6415\n",
            "Accuracy = 0.6140\n",
            "epoch: 20, loss: 0.5174\n",
            "Accuracy = 0.7544\n",
            "epoch: 30, loss: 0.4409\n",
            "Accuracy = 0.8333\n",
            "epoch: 40, loss: 0.3892\n",
            "Accuracy = 0.8246\n",
            "epoch: 50, loss: 0.3518\n",
            "Accuracy = 0.8509\n",
            "epoch: 60, loss: 0.3233\n",
            "Accuracy = 0.8684\n",
            "epoch: 70, loss: 0.3009\n",
            "Accuracy = 0.8772\n",
            "epoch: 80, loss: 0.2826\n",
            "Accuracy = 0.8860\n",
            "epoch: 90, loss: 0.2674\n",
            "Accuracy = 0.8860\n",
            "epoch: 100, loss: 0.2544\n",
            "Accuracy = 0.8947\n",
            "epoch: 110, loss: 0.2432\n",
            "Accuracy = 0.9035\n",
            "epoch: 120, loss: 0.2334\n",
            "Accuracy = 0.9035\n",
            "epoch: 130, loss: 0.2248\n",
            "Accuracy = 0.9035\n",
            "epoch: 140, loss: 0.2171\n",
            "Accuracy = 0.9035\n",
            "epoch: 150, loss: 0.2101\n",
            "Accuracy = 0.9035\n",
            "Final Accuracy = 0.9035\n"
          ],
          "name": "stdout"
        }
      ]
    }
  ]
}